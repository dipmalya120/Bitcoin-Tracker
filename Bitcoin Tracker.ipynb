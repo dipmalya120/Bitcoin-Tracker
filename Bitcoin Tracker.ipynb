{
 "cells": [
  {
   "cell_type": "code",
   "execution_count": null,
   "metadata": {},
   "outputs": [],
   "source": [
    "pip install requests"
   ]
  },
  {
   "cell_type": "code",
   "execution_count": null,
   "metadata": {},
   "outputs": [],
   "source": [
    "import requests\n",
    "import tkinter as tk\n",
    "from datetime import datetime\n",
    "\n",
    "def trackBitcoin():\n",
    "    url = 'https://min-api.cryptocompare.com/data/price?fsym=BTC&tsyms=USD,JPY,EUR'\n",
    "    response = requests.get(url).json()\n",
    "    price = response['USD']\n",
    "    time = datetime.now().strftime(\"%H:%M:%S\")\n",
    "\n",
    "    labelPrice.config(text = str(price)+'$')\n",
    "    labelTime.config(text = 'Updated at: '+str(time))\n",
    "    canvas.after(1000, trackBitcoin)\n",
    "\n",
    "canvas = tk.Tk()\n",
    "canvas.geometry('400x500')\n",
    "canvas.title('Bitcoin Tracker')\n",
    "\n",
    "font1 = ('Times New Roman', 24, 'bold')\n",
    "font2 = ('Times New Roman', 22, 'bold')\n",
    "font3 = ('Times New Roman', 18, 'normal')\n",
    "\n",
    "label = tk.Label(canvas, text = 'Bitcoin Price', font = font1)\n",
    "label.pack(pady = 20)\n",
    "\n",
    "labelPrice = tk.Label(canvas, font = font2)\n",
    "labelPrice.pack(pady = 20)\n",
    "\n",
    "labelTime = tk.Label(canvas, font = font3)\n",
    "labelTime.pack(pady = 20)\n",
    "\n",
    "trackBitcoin()\n",
    "canvas.mainloop()\n"
   ]
  },
  {
   "cell_type": "code",
   "execution_count": null,
   "metadata": {},
   "outputs": [],
   "source": []
  }
 ],
 "metadata": {
  "kernelspec": {
   "display_name": "Python 3",
   "language": "python",
   "name": "python3"
  },
  "language_info": {
   "codemirror_mode": {
    "name": "ipython",
    "version": 3
   },
   "file_extension": ".py",
   "mimetype": "text/x-python",
   "name": "python",
   "nbconvert_exporter": "python",
   "pygments_lexer": "ipython3",
   "version": "3.8.5"
  }
 },
 "nbformat": 4,
 "nbformat_minor": 4
}
